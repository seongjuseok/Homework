{
 "cells": [
  {
   "cell_type": "code",
   "execution_count": 3,
   "metadata": {},
   "outputs": [
    {
     "name": "stdout",
     "output_type": "stream",
     "text": [
      "1\n",
      "2\n",
      "3\n",
      "4\n",
      "0\n",
      "[4, 3, 2, 1]\n"
     ]
    }
   ],
   "source": [
    "# 105번 문제\n",
    "a = input()\n",
    "c = []\n",
    "while int(a) != 0 : \n",
    "    try:\n",
    "        b = int(a)\n",
    "        \n",
    "    except:\n",
    "        print(\"숫자를 입력하시오\")\n",
    "        a = input()\n",
    "    else: \n",
    "        c.append(b)\n",
    "        a = input()\n",
    "\n",
    "c.reverse()\n",
    "print(c)"
   ]
  },
  {
   "cell_type": "code",
   "execution_count": 150,
   "metadata": {
    "scrolled": true
   },
   "outputs": [
    {
     "name": "stdout",
     "output_type": "stream",
     "text": [
      "1\n",
      "2\n",
      "3\n",
      "0\n",
      "0\n",
      "[3, 2, 1]\n"
     ]
    }
   ],
   "source": [
    "#insert는 인자가 2개 들어가는 것, 특정 index를 설정해서 그 위치로 넣어주는 것\n",
    "# 모범 답안\n",
    "num_list = []\n",
    "while 1:\n",
    "    num = input()\n",
    "    if int(num) is 0:\n",
    "        print(\"0\")\n",
    "        break;   # 0을 입력한다면, while 나가게한다\n",
    "    else: \n",
    "        num_list.append(int(num))\n",
    "num_list.reverse()\n",
    "print(num_list)"
   ]
  },
  {
   "cell_type": "code",
   "execution_count": null,
   "metadata": {},
   "outputs": [],
   "source": [
    "for i in range(len(num_list)-1,-1,-1):\n",
    "    "
   ]
  },
  {
   "cell_type": "code",
   "execution_count": 155,
   "metadata": {
    "scrolled": true
   },
   "outputs": [
    {
     "name": "stdout",
     "output_type": "stream",
     "text": [
      "first\n",
      "first\n",
      "second\n",
      "third\n",
      " \n",
      "{'third', 'second', 'first'}\n"
     ]
    }
   ],
   "source": [
    "# 107번 문제\n",
    "a = input()\n",
    "c = set()\n",
    "while a != ' ' : \n",
    "    try:\n",
    "        b = str(a)\n",
    "        \n",
    "    except:\n",
    "        print(\"문자를 입력하시오\")\n",
    "        a = input()\n",
    "    else: \n",
    "        c.add(b)\n",
    "        a = input()\n",
    "\n",
    "# 거꾸로 하는 것\n",
    "print(c)"
   ]
  },
  {
   "cell_type": "code",
   "execution_count": 3,
   "metadata": {},
   "outputs": [
    {
     "name": "stdout",
     "output_type": "stream",
     "text": [
      "word\n",
      "word\n",
      "banana\n",
      "cake\n",
      "banana\n",
      " \n",
      "['word', 'banana', 'cake']\n"
     ]
    }
   ],
   "source": [
    "# 모범답안\n",
    "word_list =[]\n",
    "while True:\n",
    "    word = input()\n",
    "    \n",
    "    if word is \" \":\n",
    "        break\n",
    "        \n",
    "    try :\n",
    "        word_list.index(word)\n",
    "    except:\n",
    "        word_list.append(word)\n",
    "print(word_list)"
   ]
  },
  {
   "cell_type": "code",
   "execution_count": 4,
   "metadata": {},
   "outputs": [
    {
     "data": {
      "text/plain": [
       "(0,)"
      ]
     },
     "execution_count": 4,
     "metadata": {},
     "output_type": "execute_result"
    }
   ],
   "source": [
    "a = ['a', 'b','c','d']\n",
    "a.index('a'), \n",
    "# a.index(10) --> 없으면 error가 뜬다."
   ]
  },
  {
   "cell_type": "code",
   "execution_count": 137,
   "metadata": {
    "scrolled": true
   },
   "outputs": [
    {
     "name": "stdout",
     "output_type": "stream",
     "text": [
      "3\n",
      "-4\n",
      "1\n",
      "0\n",
      "-1\n",
      "0\n",
      "-2\n",
      " \n",
      "[-4, -1, -2, 0, 0, 3, 1]\n"
     ]
    }
   ],
   "source": [
    "# 108번 문제\n",
    "a = input()\n",
    "ne = []\n",
    "pe = []\n",
    "ze = []\n",
    "while a != \" \" : \n",
    "    try:\n",
    "        b = int(a)\n",
    "        \n",
    "    except:\n",
    "        print(\"숫자를 입력하시오\")\n",
    "        a = input()\n",
    "    else: \n",
    "        if b<0:\n",
    "            ne.append(b)\n",
    "#             ne.sort()\n",
    "            a = input()\n",
    "        elif b>0:\n",
    "            pe.append(b)\n",
    "#             pe.sort()\n",
    "#             pe.reverse()\n",
    "            a = input()\n",
    "        else:\n",
    "            ze.append(b)\n",
    "            a = input()\n",
    "        \n",
    "ne = ne.__add__(ze)\n",
    "ne = ne.__add__(pe)\n",
    "print(ne)"
   ]
  },
  {
   "cell_type": "code",
   "execution_count": 135,
   "metadata": {},
   "outputs": [
    {
     "name": "stdout",
     "output_type": "stream",
     "text": [
      "6\n",
      "28\n",
      "496\n",
      "8128\n"
     ]
    }
   ],
   "source": [
    "# 110번 문제 \n",
    "\n",
    "# ge = []\n",
    "for x in range (2,10000):\n",
    "    sum = 0\n",
    "    for y in range(1,x):\n",
    "        \n",
    "        if x % y == 0:\n",
    "            sum = sum + y\n",
    "        \n",
    "    if x == sum:\n",
    "        print(sum);        \n",
    "            \n",
    "    "
   ]
  },
  {
   "cell_type": "code",
   "execution_count": 78,
   "metadata": {
    "scrolled": true
   },
   "outputs": [
    {
     "name": "stdout",
     "output_type": "stream",
     "text": [
      "apples\n",
      "orange\n",
      "bananas\n",
      "lemons\n",
      " \n",
      "apples, \n",
      "orange, \n",
      "bananas\n",
      "and lemons\n"
     ]
    }
   ],
   "source": [
    "# 113번 문제,, ?list에 ,가 있는데?\n",
    "a = input()\n",
    "c = list()\n",
    "while a != ' ' : \n",
    "    try:\n",
    "        b = str(a)\n",
    "        \n",
    "    except:\n",
    "        print(\"문자를 입력하시오\")\n",
    "        a = input()\n",
    "    \n",
    "    else:\n",
    "        c.append(b)\n",
    "        a = input()\n",
    "        \n",
    "d =c.__len__()\n",
    "for x in range(0,d-1):\n",
    "    if x < d-2:\n",
    "        print(c[x]+ ', ')\n",
    "        \n",
    "    else: \n",
    "        print(c[x])\n",
    "print('and '+c[d-1])\n"
   ]
  },
  {
   "cell_type": "code",
   "execution_count": 95,
   "metadata": {},
   "outputs": [
    {
     "name": "stdout",
     "output_type": "stream",
     "text": [
      "[4, 12, 25, 29, 30, 38, 39, 41, 44, 49]\n"
     ]
    }
   ],
   "source": [
    "# 114 \n",
    "import random\n",
    "a = []\n",
    "while a.__len__() <10:\n",
    "    b = random.randint(1,49)\n",
    "    \n",
    "    if b not in a:\n",
    "        a.append(b)\n",
    "a.sort()        \n",
    "print(a)"
   ]
  },
  {
   "cell_type": "code",
   "execution_count": 108,
   "metadata": {
    "scrolled": true
   },
   "outputs": [
    {
     "name": "stdout",
     "output_type": "stream",
     "text": [
      "press any character: hello, World!\n",
      "10\n"
     ]
    }
   ],
   "source": [
    "# 134\n",
    "a = input(\"press any character: \")\n",
    "b = set()\n",
    "\n",
    "count = a.__len__() \n",
    "for i in range(count):\n",
    "    b.add(a[i])\n",
    "print(b.__len__())    "
   ]
  },
  {
   "cell_type": "code",
   "execution_count": 125,
   "metadata": {
    "scrolled": true
   },
   "outputs": [
    {
     "name": "stdout",
     "output_type": "stream",
     "text": [
      "press first character: aabb\n",
      "press second character: ccad\n",
      "This is not anagram\n"
     ]
    }
   ],
   "source": [
    "#135 \n",
    "a = input(\"press first character: \")\n",
    "b = input(\"press second character: \")\n",
    "\n",
    "aa = a.__len__() \n",
    "bb = b.__len__() \n",
    "\n",
    "for i in range(aa-1):\n",
    "    if a[i] != b[-i-1]:\n",
    "        print(\"This is not anagram\")\n",
    "        break\n",
    "    else:\n",
    "        print(\"this is anagram\")    "
   ]
  },
  {
   "cell_type": "markdown",
   "metadata": {},
   "source": [
    "#####  evil (5,0,-1) 거꾸로 출력할 수 있다."
   ]
  }
 ],
 "metadata": {
  "kernelspec": {
   "display_name": "Python 3",
   "language": "python",
   "name": "python3"
  },
  "language_info": {
   "codemirror_mode": {
    "name": "ipython",
    "version": 3
   },
   "file_extension": ".py",
   "mimetype": "text/x-python",
   "name": "python",
   "nbconvert_exporter": "python",
   "pygments_lexer": "ipython3",
   "version": "3.6.5"
  }
 },
 "nbformat": 4,
 "nbformat_minor": 2
}
