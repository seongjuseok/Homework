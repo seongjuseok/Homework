{
 "cells": [
  {
   "cell_type": "code",
   "execution_count": 3,
   "metadata": {},
   "outputs": [
    {
     "ename": "SyntaxError",
     "evalue": "invalid syntax (<ipython-input-3-b8d34c2822a4>, line 1)",
     "output_type": "error",
     "traceback": [
      "\u001b[1;36m  File \u001b[1;32m\"<ipython-input-3-b8d34c2822a4>\"\u001b[1;36m, line \u001b[1;32m1\u001b[0m\n\u001b[1;33m    파란색 빨간색(도전), 과제3_이름.ipynb\u001b[0m\n\u001b[1;37m          ^\u001b[0m\n\u001b[1;31mSyntaxError\u001b[0m\u001b[1;31m:\u001b[0m invalid syntax\n"
     ]
    }
   ],
   "source": [
    "파란색 빨간색(도전), 과제3_이름.ipynb"
   ]
  },
  {
   "cell_type": "code",
   "execution_count": 49,
   "metadata": {},
   "outputs": [
    {
     "name": "stdout",
     "output_type": "stream",
     "text": [
      "Write distance(kilometers): 1\n",
      "Total fare is  :  5.75\n",
      "Write distance(kilometers):  \n",
      "End\n"
     ]
    }
   ],
   "source": [
    "# 82 Taxi Fare\n",
    "fare = 4.00\n",
    "plus = 0.25\n",
    "\n",
    "distance = input(\"Write distance(kilometers): \")\n",
    "while distance != ' ':\n",
    "    aa = int(distance)*1000 // 140 \n",
    "    fare = fare + aa * plus\n",
    "    \n",
    "    print(\"Total fare is  : \", fare)\n",
    "    distance = input(\"Write distance(kilometers): \")\n",
    "print( \"End\")    "
   ]
  },
  {
   "cell_type": "code",
   "execution_count": 3,
   "metadata": {},
   "outputs": [
    {
     "name": "stdout",
     "output_type": "stream",
     "text": [
      "Press the first number  : 1\n",
      "Press the second number : 2\n",
      "Press the third number  : 3\n",
      "median is :  2.0\n"
     ]
    }
   ],
   "source": [
    "# 84 Median of Three Values\n",
    "a = int(input(\"Press the first number  : \"))\n",
    "b = int(input(\"Press the second number : \"))\n",
    "c = int(input(\"Press the third number  : \"))\n",
    "median= (a+b+c)/3\n",
    "print(\"median is : \",median )\n"
   ]
  },
  {
   "cell_type": "code",
   "execution_count": 48,
   "metadata": {},
   "outputs": [
    {
     "name": "stdout",
     "output_type": "stream",
     "text": [
      "Press the number :   3\n",
      "Convert an Integer to its Ordinal Number : Third\n"
     ]
    }
   ],
   "source": [
    "# 85 conver an integer to its ordinal number\n",
    "dic = {1:'first',2:'Second',3:'Third',4:'Fourth',5:'Fifth',6:'Sixth',7:'Seventh',8:'Eighth',9:'Ninth',10:'Tenth',11:'Eleventh',12:'Twelfth'}\n",
    "a = int(input(\"Press the number :   \"))\n",
    "if a in dic:\n",
    "    print('Convert an Integer to its Ordinal Number :', dic[a])\n",
    "    \n",
    "else :\n",
    "    print(\"                                          \")"
   ]
  },
  {
   "cell_type": "code",
   "execution_count": 29,
   "metadata": {},
   "outputs": [
    {
     "name": "stdout",
     "output_type": "stream",
     "text": [
      "Enter triangle first length :   2\n",
      "Enter triangle first length :   2\n",
      "Enter triangle first length :   2\n",
      "You can make a triangle\n"
     ]
    }
   ],
   "source": [
    "# 88 Is it a Valid Triangle\n",
    "a = int(input(\"Enter triangle first length :   \"))\n",
    "b = int(input(\"Enter triangle first length :   \"))\n",
    "c = int(input(\"Enter triangle first length :   \"))\n",
    "\n",
    "d = max(a,b,c)\n",
    "sum = a+b+c -d\n",
    "\n",
    "if d >= sum :\n",
    "    print(\"You can't make a triangle\")\n",
    "else:\n",
    "    print(\"You can make a triangle\")"
   ]
  },
  {
   "cell_type": "code",
   "execution_count": 33,
   "metadata": {},
   "outputs": [
    {
     "name": "stdout",
     "output_type": "stream",
     "text": [
      "Enter number :   10\n",
      "False\n"
     ]
    }
   ],
   "source": [
    "# 92 Is a number prime\n",
    "a = int(input(\"Enter number :   \"))\n",
    "b = []\n",
    "\n",
    "for i in range(1,a+1):\n",
    "    if a%i ==0:\n",
    "        b.append(i)\n",
    "\n",
    "if b.__len__() ==2:\n",
    "    print(\"True\")\n",
    "else:\n",
    "    print(\"False\")\n",
    "\n"
   ]
  }
 ],
 "metadata": {
  "kernelspec": {
   "display_name": "Python 3",
   "language": "python",
   "name": "python3"
  },
  "language_info": {
   "codemirror_mode": {
    "name": "ipython",
    "version": 3
   },
   "file_extension": ".py",
   "mimetype": "text/x-python",
   "name": "python",
   "nbconvert_exporter": "python",
   "pygments_lexer": "ipython3",
   "version": "3.6.5"
  }
 },
 "nbformat": 4,
 "nbformat_minor": 2
}
