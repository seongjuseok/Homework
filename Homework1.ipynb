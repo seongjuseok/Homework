{
 "cells": [
  {
   "cell_type": "markdown",
   "metadata": {},
   "source": [
    "##### 빅데이터 기반 지능정보시스템 개발 과정"
   ]
  },
  {
   "cell_type": "markdown",
   "metadata": {},
   "source": [
    "## 과제 1. 이번 과정을 통해서 해보고 싶은 분야"
   ]
  },
  {
   "cell_type": "markdown",
   "metadata": {},
   "source": [
    "##### 1. 기계 학습을 이용하여  금융 소비자들에게 적합한 상품을 소개할 수 있는 제품\n",
    "     - 축적한 데이터를 바탕으로 해당 고객의 성향에 맞는 제품을 추천하는 제품 "
   ]
  },
  {
   "cell_type": "markdown",
   "metadata": {},
   "source": [
    "##### 2. 소비자의 취향, 성향 및 선호도를 파악하여 도움을 줄 수 있는 분야 "
   ]
  }
 ],
 "metadata": {
  "kernelspec": {
   "display_name": "Python 3",
   "language": "python",
   "name": "python3"
  },
  "language_info": {
   "codemirror_mode": {
    "name": "ipython",
    "version": 3
   },
   "file_extension": ".py",
   "mimetype": "text/x-python",
   "name": "python",
   "nbconvert_exporter": "python",
   "pygments_lexer": "ipython3",
   "version": "3.6.5"
  }
 },
 "nbformat": 4,
 "nbformat_minor": 2
}
