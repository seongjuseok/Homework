{
 "cells": [
  {
   "cell_type": "code",
   "execution_count": 2,
   "metadata": {
    "scrolled": true
   },
   "outputs": [
    {
     "name": "stdout",
     "output_type": "stream",
     "text": [
      "press value: 10\n",
      "press another number: 20\n",
      "press another number: 30\n",
      "press another number: 0\n",
      "exit the program\n",
      "Average is:  20.0\n"
     ]
    }
   ],
   "source": [
    "# 61 Average\n",
    "val = input(\"press value: \")\n",
    "val_list =[]\n",
    "count = 0\n",
    "while True:\n",
    "    if val == '0':\n",
    "        if count == 0:\n",
    "            print(\"Do not press zero fist time \")\n",
    "            val = input(\"press value: \")\n",
    "        \n",
    "        elif count != 0:\n",
    "            print(\"exit the program\")\n",
    "            break;\n",
    "    \n",
    "    \n",
    "    else:\n",
    "        val_list.append(val)\n",
    "        count += 1\n",
    "        val = input(\"press another number: \")\n",
    "        \n",
    "length = val_list.__len__()\n",
    "sum = 0\n",
    "for i in range(0, length):\n",
    "    sum += int(val_list[i])/length\n",
    "print(\"Average is: \", sum)"
   ]
  },
  {
   "cell_type": "code",
   "execution_count": 54,
   "metadata": {},
   "outputs": [
    {
     "name": "stdout",
     "output_type": "stream",
     "text": [
      "No,    Celsius     Fahrenheit \n",
      "0         0          32\n",
      "1         1          33\n",
      "2         2          35\n",
      "3         3          37\n",
      "4         4          39\n",
      "5         5          41\n",
      "6         6          42\n",
      "7         7          44\n",
      "8         8          46\n",
      "9         9          48\n",
      "10         10          50\n",
      "11         11          51\n",
      "12         12          53\n",
      "13         13          55\n",
      "14         14          57\n",
      "15         15          59\n",
      "16         16          60\n",
      "17         17          62\n",
      "18         18          64\n",
      "19         19          66\n",
      "20         20          68\n",
      "21         21          69\n",
      "22         22          71\n",
      "23         23          73\n",
      "24         24          75\n",
      "25         25          77\n",
      "26         26          78\n",
      "27         27          80\n",
      "28         28          82\n",
      "29         29          84\n",
      "30         30          86\n",
      "31         31          87\n",
      "32         32          89\n",
      "33         33          91\n",
      "34         34          93\n",
      "35         35          95\n",
      "36         36          96\n",
      "37         37          98\n",
      "38         38          100\n",
      "39         39          102\n",
      "40         40          104\n",
      "41         41          105\n",
      "42         42          107\n",
      "43         43          109\n",
      "44         44          111\n",
      "45         45          113\n",
      "46         46          114\n",
      "47         47          116\n",
      "48         48          118\n",
      "49         49          120\n",
      "50         50          122\n",
      "51         51          123\n",
      "52         52          125\n",
      "53         53          127\n",
      "54         54          129\n",
      "55         55          131\n",
      "56         56          132\n",
      "57         57          134\n",
      "58         58          136\n",
      "59         59          138\n",
      "60         60          140\n",
      "61         61          141\n",
      "62         62          143\n",
      "63         63          145\n",
      "64         64          147\n",
      "65         65          149\n",
      "66         66          150\n",
      "67         67          152\n",
      "68         68          154\n",
      "69         69          156\n",
      "70         70          158\n",
      "71         71          159\n",
      "72         72          161\n",
      "73         73          163\n",
      "74         74          165\n",
      "75         75          167\n",
      "76         76          168\n",
      "77         77          170\n",
      "78         78          172\n",
      "79         79          174\n",
      "80         80          176\n",
      "81         81          177\n",
      "82         82          179\n",
      "83         83          181\n",
      "84         84          183\n",
      "85         85          185\n",
      "86         86          186\n",
      "87         87          188\n",
      "88         88          190\n",
      "89         89          192\n",
      "90         90          194\n",
      "91         91          195\n",
      "92         92          197\n",
      "93         93          199\n",
      "94         94          201\n",
      "95         95          203\n",
      "96         96          204\n",
      "97         97          206\n",
      "98         98          208\n",
      "99         99          210\n",
      "100         100          212\n"
     ]
    }
   ],
   "source": [
    "# exercise 63 Temperature COnversion Table\n",
    "cel= list(range(0,101))\n",
    "Fah= list(range(0,101))\n",
    "print(\"No,    Celsius     Fahrenheit \")\n",
    "for i in range(0,cel.__len__()):\n",
    "    Fah[i] = int(cel[i] * 1.8 +32)\n",
    "\n",
    "    \n",
    "    \n",
    "    print(i, \"       \",cel[i],\"        \", Fah[i])\n",
    "          "
   ]
  },
  {
   "cell_type": "code",
   "execution_count": 49,
   "metadata": {
    "scrolled": true
   },
   "outputs": [
    {
     "name": "stdout",
     "output_type": "stream",
     "text": [
      "press grade: a\n",
      "press grade: a\n",
      "press grade: a\n",
      "press grade:  \n",
      "Average Grade Point:  4.0\n"
     ]
    }
   ],
   "source": [
    "# 66 \n",
    "grade = input(\"press grade: \")\n",
    "grade_list =[]\n",
    "number_list = {\"a+\":4.5, \"a\":4.0,\"b+\":3.5,\"b\":3.0,\"c+\":2.5,\"c\":2,\"d+\":1.5,\"d\":1,\"f\":0}\n",
    "while True:\n",
    "    if grade in number_list:\n",
    "        grade_list.append(number_list[grade])\n",
    "        grade = input(\"press grade: \")\n",
    "    \n",
    "    elif grade == ' ':\n",
    "        print(\"You enter blank\")\n",
    "        break;\n",
    "               \n",
    "    else:\n",
    "        print(\"등급을 입력해 주세요\")\n",
    "        grade = input(\"press grade: \")       \n",
    "\n",
    "length = grade_list.__len__()\n",
    "sum = 0\n",
    "for i in range(0, length):\n",
    "    sum += grade_list[i]\n",
    "print(\"Average Grade Point: \", sum/length)"
   ]
  },
  {
   "cell_type": "code",
   "execution_count": 53,
   "metadata": {},
   "outputs": [
    {
     "name": "stdout",
     "output_type": "stream",
     "text": [
      "press age: 2\n",
      "Price is Zero\n",
      "Next : 10\n",
      "Price is $14.00\n",
      "Next : 70\n",
      "Price is $18.00\n",
      "Next :  \n",
      "End\n",
      "Total cost is:  32\n"
     ]
    }
   ],
   "source": [
    "# 67 \n",
    "age = input(\"press age: \")\n",
    "age_price_list =[]\n",
    "while age!=' ':\n",
    "    if int(age) <= 2:\n",
    "        age_price_list.append(0)\n",
    "        print(\"Price is Zero\")\n",
    "        age = input(\"Next : \")\n",
    "    \n",
    "    elif 3 <= int(age) <= 12:\n",
    "        print(\"Price is $14.00\")\n",
    "        age_price_list.append(14)\n",
    "        age = input(\"Next : \")\n",
    "    \n",
    "    elif 65 <= int(age):\n",
    "        print(\"Price is $18.00\")\n",
    "        age_price_list.append(18)\n",
    "        age = input(\"Next : \")\n",
    "                          \n",
    "    else:\n",
    "        print(\"Price is $23.00\")\n",
    "        age_price_list.append(23)\n",
    "        age = input(\"Next : \")\n",
    "        \n",
    "print(\"End\")\n",
    "length = age_price_list.__len__()\n",
    "sum = 0\n",
    "for i in range(0, length):\n",
    "    sum += age_price_list[i]\n",
    "print(\"Total cost is: \", sum)"
   ]
  },
  {
   "cell_type": "code",
   "execution_count": 20,
   "metadata": {
    "scrolled": true
   },
   "outputs": [
    {
     "name": "stdout",
     "output_type": "stream",
     "text": [
      "Write palindrome :civic\n",
      "This is palindrome\n"
     ]
    }
   ],
   "source": [
    "# 72 Is a String a Palindrome?\n",
    "word = input(\"Write palindrome :\")\n",
    "word_list = list(word)\n",
    "length = word_list.__len__()\n",
    "\n",
    "for i in range(0, length):\n",
    "    if word_list[i] == word_list[-i-1]:\n",
    "        pass;\n",
    "    \n",
    "    elif word_list[i] != word_list[-i-1]: \n",
    "        print(\"This is not a palindrome\")\n",
    "        break;\n",
    "else:\n",
    "    print(\"This is palindrome\")"
   ]
  },
  {
   "cell_type": "code",
   "execution_count": 27,
   "metadata": {
    "scrolled": false
   },
   "outputs": [
    {
     "name": "stdout",
     "output_type": "stream",
     "text": [
      "[1, 1, 2, 3, 4, 5, 6, 7, 8, 9, 10]\n",
      "[2, 2, 4, 6, 8, 10, 12, 14, 16, 18, 20]\n",
      "[3, 3, 6, 9, 12, 15, 18, 21, 24, 27, 30]\n",
      "[4, 4, 8, 12, 16, 20, 24, 28, 32, 36, 40]\n",
      "[5, 5, 10, 15, 20, 25, 30, 35, 40, 45, 50]\n",
      "[6, 6, 12, 18, 24, 30, 36, 42, 48, 54, 60]\n",
      "[7, 7, 14, 21, 28, 35, 42, 49, 56, 63, 70]\n",
      "[8, 8, 16, 24, 32, 40, 48, 56, 64, 72, 80]\n",
      "[9, 9, 18, 27, 36, 45, 54, 63, 72, 81, 90]\n",
      "[10, 10, 20, 30, 40, 50, 60, 70, 80, 90, 100]\n"
     ]
    }
   ],
   "source": [
    "# 74 Multiplication Table\n",
    "for i in range(1,11):\n",
    "    list=[i]\n",
    "    for j in range(1,11):\n",
    "        list.append(i*j)\n",
    "    print(list)"
   ]
  },
  {
   "cell_type": "code",
   "execution_count": 52,
   "metadata": {},
   "outputs": [
    {
     "name": "stdout",
     "output_type": "stream",
     "text": [
      "Write your first integer  :8\n",
      "Write your second integer :6\n",
      "Greatest Common Diviser is  : 2\n"
     ]
    }
   ],
   "source": [
    "# 75 Greatest common divisor\n",
    "int1 = int(input(\"Write your first integer  :\"))\n",
    "int2 = int(input(\"Write your second integer :\"))\n",
    "\n",
    "int3= min(int1,int2)-1\n",
    "for i in range(int3, 0, -1):\n",
    "    if int1%i==0 and int2 % i==0:\n",
    "        print(\"Greatest Common Diviser is  :\", i)\n",
    "        break;\n",
    "    else:\n",
    "        pass\n",
    "    "
   ]
  },
  {
   "cell_type": "code",
   "execution_count": 42,
   "metadata": {
    "scrolled": true
   },
   "outputs": [
    {
     "name": "stdout",
     "output_type": "stream",
     "text": [
      "enter bunary number :  111\n"
     ]
    },
    {
     "data": {
      "text/plain": [
       "7"
      ]
     },
     "execution_count": 42,
     "metadata": {},
     "output_type": "execute_result"
    }
   ],
   "source": [
    "# 77 Binary to Decimal\n",
    "binary = int(input(\"enter bunary number :  \"))\n",
    "a = str(binary)\n",
    "int(a, base=2)"
   ]
  },
  {
   "cell_type": "code",
   "execution_count": 47,
   "metadata": {},
   "outputs": [
    {
     "name": "stdout",
     "output_type": "stream",
     "text": [
      "enter decimal number :  3\n",
      "0b11\n"
     ]
    }
   ],
   "source": [
    "# 78 Decimal to Binary\n",
    "Decimal = int(input(\"enter decimal number :  \"))\n",
    "a = bin(Decimal)\n",
    "print(a)"
   ]
  }
 ],
 "metadata": {
  "kernelspec": {
   "display_name": "Python 3",
   "language": "python",
   "name": "python3"
  },
  "language_info": {
   "codemirror_mode": {
    "name": "ipython",
    "version": 3
   },
   "file_extension": ".py",
   "mimetype": "text/x-python",
   "name": "python",
   "nbconvert_exporter": "python",
   "pygments_lexer": "ipython3",
   "version": "3.6.5"
  }
 },
 "nbformat": 4,
 "nbformat_minor": 2
}
